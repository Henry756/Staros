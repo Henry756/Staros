{
  "nbformat": 4,
  "nbformat_minor": 0,
  "metadata": {
    "colab": {
      "provenance": [],
      "authorship_tag": "ABX9TyNV02Q+sBZLo/tnWgQfpUEj",
      "include_colab_link": true
    },
    "kernelspec": {
      "name": "python3",
      "display_name": "Python 3"
    },
    "language_info": {
      "name": "python"
    }
  },
  "cells": [
    {
      "cell_type": "markdown",
      "metadata": {
        "id": "view-in-github",
        "colab_type": "text"
      },
      "source": [
        "<a href=\"https://colab.research.google.com/github/Henry756/Staros/blob/main/Actividad5.ipynb\" target=\"_parent\"><img src=\"https://colab.research.google.com/assets/colab-badge.svg\" alt=\"Open In Colab\"/></a>"
      ]
    },
    {
      "cell_type": "code",
      "execution_count": 20,
      "metadata": {
        "colab": {
          "base_uri": "https://localhost:8080/",
          "height": 0
        },
        "id": "np_vKeXDg5QR",
        "outputId": "fc0f3502-664f-4be1-f03f-28a671775e25"
      },
      "outputs": [
        {
          "output_type": "stream",
          "name": "stdout",
          "text": [
            "Escribe tu nombre:  henry\n",
            "Hola, bienvenido henry\n"
          ]
        }
      ],
      "source": [
        "#Actividad 5: Diseño  de  algoritmos  en  Python  Henry Miguel Sánchez Carreón IMTC 1952492 Hora: N4\n",
        "\n",
        "name_exclude=[\"Ana\",\"Juan\",\"Pedro\"]\n",
        "name= input (\"Escribe tu nombre:  \")\n",
        "if name in  name_exclude:\n",
        "  print(\"Error,entrada nono válida\")\n",
        "else:\n",
        "  print(\"Hola, bienvenido\"+\" \"+name)\n"
      ]
    },
    {
      "cell_type": "markdown",
      "source": [],
      "metadata": {
        "id": "VDfCCwgf2D25"
      }
    },
    {
      "cell_type": "code",
      "source": [
        "n=input(\"Defina el numero de elementos de la lista\")\n",
        "lista = int(n)\n",
        "lista_x=[]\n",
        "for i in range(lista):\n",
        "    lista_x.append(str(input(\"Ingrese los datos: \")))\n",
        "lista_x.reverse()\n",
        "print(lista_x)"
      ],
      "metadata": {
        "colab": {
          "base_uri": "https://localhost:8080/"
        },
        "id": "OCFQ1pKJkMRA",
        "outputId": "88f725cc-b474-4f6f-8a86-4958b8673d3c"
      },
      "execution_count": null,
      "outputs": [
        {
          "output_type": "stream",
          "name": "stdout",
          "text": [
            "Defina el numero de elementos de la lista3\n",
            "Ingrese los datos: 1\n",
            "Ingrese los datos: 2\n",
            "Ingrese los datos: 3\n",
            "['3', '2', '1']\n"
          ]
        }
      ]
    },
    {
      "cell_type": "code",
      "source": [
        "n=int(input(\"Cuantos elementos de la  serie quieres generar?\"))\n",
        "fibonacci=[0,1]\n",
        "for i in range(2,n):\n",
        "  fibonacci.append(fibonacci[i-1]+fibonacci[i-2])\n",
        "print(fibonacci)"
      ],
      "metadata": {
        "colab": {
          "base_uri": "https://localhost:8080/",
          "height": 0
        },
        "id": "a6UXkRe-ygNq",
        "outputId": "7f7b5b57-621e-4727-8ed1-16154e5b2ce2"
      },
      "execution_count": 10,
      "outputs": [
        {
          "output_type": "stream",
          "name": "stdout",
          "text": [
            "Cuantos elementos de la  serie quieres generar?4\n",
            "[0, 1, 1, 2]\n"
          ]
        }
      ]
    },
    {
      "cell_type": "code",
      "source": [
        "import random\n",
        "def fun():\n",
        "  numero=random.randint(1,100)\n",
        "  intento= None\n",
        "  while intento != numero:\n",
        "    intento=int(input(\"Adivina el numero\"))\n",
        "    if  intento < numero:\n",
        "      print(\"El numero  es  mayor\")\n",
        "    elif intento > numero:\n",
        "      print(\"El numero es menor\")\n",
        "print(\"Felicidades, adivinaste el numero\")\n",
        "print(fun())"
      ],
      "metadata": {
        "colab": {
          "base_uri": "https://localhost:8080/",
          "height": 0
        },
        "id": "P9XX9yjbzCyh",
        "outputId": "52efb681-a1b8-427b-8e73-0cd74e69f930"
      },
      "execution_count": 13,
      "outputs": [
        {
          "output_type": "stream",
          "name": "stdout",
          "text": [
            "Adivina el numero10\n",
            "El numero  es  mayor\n",
            "Adivina el numero40\n",
            "El numero  es  mayor\n",
            "Adivina el numero70\n",
            "El numero  es  mayor\n",
            "Adivina el numero90\n",
            "El numero  es  mayor\n",
            "Adivina el numero100\n",
            "El numero es menor\n",
            "Adivina el numero99\n",
            "El numero es menor\n",
            "Adivina el numero95\n",
            "El numero es menor\n",
            "Adivina el numero94\n",
            "El numero es menor\n",
            "Adivina el numero95\n",
            "El numero es menor\n",
            "Adivina el numero93\n",
            "El numero es menor\n",
            "Adivina el numero92\n",
            "None\n"
          ]
        }
      ]
    },
    {
      "cell_type": "code",
      "source": [
        "def es_primo(num):\n",
        "  if num < 2:\n",
        "    return False\n",
        "  for i in range(2, int(num**0.5) + 1):\n",
        "    if num % i == 0:\n",
        "      return False\n",
        "  return True\n",
        "\n",
        "def mostrar_primos():\n",
        "  inicio = int(input(\"Ingresa el número de inicio del rango: \"))\n",
        "  fin = int(input(\"Ingresa el número de fin del rango: \"))\n",
        "  primos = []\n",
        "  for num in range(inicio, fin + 1):\n",
        "    if es_primo(num):\n",
        "      primos.append(num)\n",
        "  print(\"Los números primos en el rango son:\", primos)\n",
        "\n",
        "mostrar_primos()\n"
      ],
      "metadata": {
        "colab": {
          "base_uri": "https://localhost:8080/",
          "height": 0
        },
        "id": "odzeIweO0oe9",
        "outputId": "2f714433-abe8-4f61-803b-984bd6619ea4"
      },
      "execution_count": 14,
      "outputs": [
        {
          "output_type": "stream",
          "name": "stdout",
          "text": [
            "Ingresa el número de inicio del rango: 20\n",
            "Ingresa el número de fin del rango: 100\n",
            "Los números primos en el rango son: [23, 29, 31, 37, 41, 43, 47, 53, 59, 61, 67, 71, 73, 79, 83, 89, 97]\n"
          ]
        }
      ]
    },
    {
      "cell_type": "code",
      "source": [
        "def suma(a, b): return a + b\n",
        "def resta(a, b): return a - b\n",
        "def multiplicacion(a, b): return a * b\n",
        "def division(a, b):\n",
        "    if b != 0:\n",
        "        return a / b\n",
        "    else:\n",
        "        return \"No se puede dividir entre cero.\"\n",
        "def calculadora():\n",
        "    num1 = float(input(\"Ingresa el primer número: \"))\n",
        "    num2 = float(input(\"Ingresa el segundo número: \"))\n",
        "    print(f\"Suma: {suma(num1, num2)}\")\n",
        "    print(f\"Resta: {resta(num1, num2)}\")\n",
        "    print(f\"Multiplicación: {multiplicacion(num1, num2)}\")\n",
        "    print(f\"División: {division(num1, num2)}\")\n",
        "calculadora()"
      ],
      "metadata": {
        "colab": {
          "base_uri": "https://localhost:8080/",
          "height": 0
        },
        "id": "ATI0cegX1L06",
        "outputId": "a96d3dc1-f442-4574-ff11-121b9c3960a5"
      },
      "execution_count": 16,
      "outputs": [
        {
          "output_type": "stream",
          "name": "stdout",
          "text": [
            "Ingresa el primer número: 100\n",
            "Ingresa el segundo número: 100\n",
            "Suma: 200.0\n",
            "Resta: 0.0\n",
            "Multiplicación: 10000.0\n",
            "División: 1.0\n"
          ]
        }
      ]
    }
  ]
}
